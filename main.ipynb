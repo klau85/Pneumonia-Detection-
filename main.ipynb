{
 "cells": [
  {
   "cell_type": "markdown",
   "metadata": {},
   "source": [
    "RMSProp  \n",
    "VGG16  \n",
    "Xception  \n",
    "Dropout  \n",
    "LR"
   ]
  },
  {
   "cell_type": "code",
   "execution_count": 1,
   "metadata": {},
   "outputs": [],
   "source": [
    "import numpy as np\n",
    "import matplotlib.pyplot as plt\n",
    "import seaborn as sns\n",
    "\n",
    "from pathlib import Path\n",
    "\n",
    "import tensorflow as tf\n",
    "from tensorflow.keras.models import Sequential\n",
    "from tensorflow.keras.callbacks import EarlyStopping\n",
    "\n",
    "from sklearn.utils.class_weight import compute_class_weight\n",
    "from sklearn import metrics\n",
    "\n",
    "sns.set_context('notebook')\n",
    "sns.set_style('white')"
   ]
  },
  {
   "cell_type": "code",
   "execution_count": 2,
   "metadata": {},
   "outputs": [],
   "source": [
    "classes = ['NORMAL', 'PNEUMONIA']\n",
    "\n",
    "IMG_HEIGHT, IMG_WIDTH = 150, 150\n",
    "BATCH_SIZE = 16\n",
    "AUTOTUNE = tf.data.AUTOTUNE\n",
    "SEED = 42\n",
    "\n",
    "train_dir = 'data/train'\n",
    "test_dir = 'data/test'\n",
    "val_dir = 'data/val'"
   ]
  },
  {
   "cell_type": "markdown",
   "metadata": {},
   "source": [
    "#### EDA"
   ]
  },
  {
   "cell_type": "markdown",
   "metadata": {},
   "source": [
    "Check for data imbalance"
   ]
  },
  {
   "cell_type": "code",
   "execution_count": 3,
   "metadata": {},
   "outputs": [],
   "source": [
    "train_normal_num_files = len(list(Path(train_dir + '/' + classes[0]).glob('*.jpeg')))\n",
    "train_pneumonia_num_files = len(list(Path(train_dir + '/' + classes[1]).glob('*.jpeg')))"
   ]
  },
  {
   "cell_type": "code",
   "execution_count": 4,
   "metadata": {},
   "outputs": [
    {
     "data": {
      "text/plain": [
       "<Axes: >"
      ]
     },
     "execution_count": 4,
     "metadata": {},
     "output_type": "execute_result"
    },
    {
     "data": {
      "image/png": "[encoded data removed]",
      "text/plain": [
       "<Figure size 640x480 with 1 Axes>"
      ]
     },
     "metadata": {},
     "output_type": "display_data"
    }
   ],
   "source": [
    "sns.barplot(\n",
    "    x=classes,\n",
    "    y=[train_normal_num_files, train_pneumonia_num_files],\n",
    "    hue=classes\n",
    ")"
   ]
  },
  {
   "cell_type": "markdown",
   "metadata": {},
   "source": [
    "As we can see, there are almost 3 times more Pneumonia images than normal ones."
   ]
  },
  {
   "cell_type": "markdown",
   "metadata": {},
   "source": [
    "#### Load dataset"
   ]
  },
  {
   "cell_type": "markdown",
   "metadata": {},
   "source": [
    "`image_dataset_from_directory` generates a tf.data.Dataset from image files in a directory.\n",
    "\n",
    "If your directory structure is:\n",
    "\n",
    "    main_directory/\n",
    "    ...class_a/\n",
    "    ......a_image_1.jpg\n",
    "    ......a_image_2.jpg\n",
    "    ...class_b/\n",
    "    ......b_image_1.jpg\n",
    "    ......b_image_2.jpg\n",
    "Then calling image_dataset_from_directory(main_directory, labels='inferred') will return a tf.data.Dataset that yields batches of images from the subdirectories class_a and class_b, together with labels 0 and 1 (0 corresponding to class_a and 1 corresponding to class_b)."
   ]
  },
  {
   "cell_type": "code",
   "execution_count": 5,
   "metadata": {},
   "outputs": [
    {
     "name": "stdout",
     "output_type": "stream",
     "text": [
      "Found 5216 files belonging to 2 classes.\n",
      "Found 60 files belonging to 2 classes.\n",
      "Found 580 files belonging to 2 classes.\n"
     ]
    }
   ],
   "source": [
    "train_ds = tf.keras.preprocessing.image_dataset_from_directory(\n",
    "    train_dir,\n",
    "    labels='inferred',\n",
    "    label_mode='int',\n",
    "    image_size=(IMG_HEIGHT, IMG_WIDTH),\n",
    "    batch_size=BATCH_SIZE,\n",
    "    seed=SEED,\n",
    "    shuffle=True,\n",
    "    color_mode='rgb',\n",
    ")\n",
    "\n",
    "val_ds = tf.keras.preprocessing.image_dataset_from_directory(\n",
    "    val_dir,\n",
    "    labels='inferred',\n",
    "    label_mode='int',\n",
    "    image_size=(IMG_HEIGHT, IMG_WIDTH),\n",
    "    batch_size=BATCH_SIZE,\n",
    "    shuffle=False,\n",
    "    color_mode='rgb',\n",
    ")\n",
    "\n",
    "test_ds = tf.keras.preprocessing.image_dataset_from_directory(\n",
    "    test_dir,\n",
    "    labels='inferred',\n",
    "    label_mode='int',\n",
    "    image_size=(IMG_HEIGHT, IMG_WIDTH),\n",
    "    batch_size=BATCH_SIZE,\n",
    "    shuffle=False,\n",
    "    color_mode='rgb',\n",
    ")\n"
   ]
  },
  {
   "cell_type": "markdown",
   "metadata": {},
   "source": [
    "#### Augment data"
   ]
  },
  {
   "cell_type": "markdown",
   "metadata": {},
   "source": [
    "##### Benefits of Using the tf.keras.layers Augmentation Layer\n",
    "\n",
    "**1. On-the-fly augmentation during training**  \n",
    "- Augmentations are applied dynamically during training, which means:\n",
    "    - No extra disk space is needed for augmented images.\n",
    "    - The model sees new variations every epoch, improving generalization.\n",
    "- It helps simulate a larger, more diverse dataset without manual duplication.\n",
    "\n",
    "**2. GPU-accelerated and built into the TensorFlow graph**\n",
    "- These layers run as part of the TensorFlow computational graph, meaning:\n",
    "    - They’re fast and optimized for GPUs/TPUs.\n",
    "    - No slow, CPU-bound Python loops or I/O bottlenecks.\n",
    "- Ideal for large-scale training pipelines."
   ]
  },
  {
   "cell_type": "code",
   "execution_count": 6,
   "metadata": {},
   "outputs": [
    {
     "name": "stdout",
     "output_type": "stream",
     "text": [
      "WARNING:tensorflow:Using a while_loop for converting RngReadAndSkip cause there is no registered converter for this op.\n",
      "WARNING:tensorflow:Using a while_loop for converting Bitcast cause there is no registered converter for this op.\n",
      "WARNING:tensorflow:Using a while_loop for converting Bitcast cause there is no registered converter for this op.\n",
      "WARNING:tensorflow:Using a while_loop for converting StatelessRandomUniformV2 cause there is no registered converter for this op.\n",
      "WARNING:tensorflow:Using a while_loop for converting ImageProjectiveTransformV3 cause there is no registered converter for this op.\n",
      "WARNING:tensorflow:Using a while_loop for converting RngReadAndSkip cause there is no registered converter for this op.\n",
      "WARNING:tensorflow:Using a while_loop for converting Bitcast cause there is no registered converter for this op.\n",
      "WARNING:tensorflow:Using a while_loop for converting Bitcast cause there is no registered converter for this op.\n",
      "WARNING:tensorflow:Using a while_loop for converting StatelessRandomUniformV2 cause there is no registered converter for this op.\n",
      "WARNING:tensorflow:Using a while_loop for converting RngReadAndSkip cause there is no registered converter for this op.\n",
      "WARNING:tensorflow:Using a while_loop for converting Bitcast cause there is no registered converter for this op.\n",
      "WARNING:tensorflow:Using a while_loop for converting Bitcast cause there is no registered converter for this op.\n",
      "WARNING:tensorflow:Using a while_loop for converting StatelessRandomUniformV2 cause there is no registered converter for this op.\n",
      "WARNING:tensorflow:Using a while_loop for converting ImageProjectiveTransformV3 cause there is no registered converter for this op.\n",
      "WARNING:tensorflow:Using a while_loop for converting RngReadAndSkip cause there is no registered converter for this op.\n",
      "WARNING:tensorflow:Using a while_loop for converting Bitcast cause there is no registered converter for this op.\n",
      "WARNING:tensorflow:Using a while_loop for converting Bitcast cause there is no registered converter for this op.\n",
      "WARNING:tensorflow:Using a while_loop for converting StatelessRandomUniformFullIntV2 cause there is no registered converter for this op.\n",
      "WARNING:tensorflow:Using a while_loop for converting StatelessRandomGetKeyCounter cause there is no registered converter for this op.\n",
      "WARNING:tensorflow:Using a while_loop for converting StatelessRandomUniformV2 cause there is no registered converter for this op.\n",
      "WARNING:tensorflow:Using a while_loop for converting AdjustContrastv2 cause Input \"contrast_factor\" of op 'AdjustContrastv2' expected to be loop invariant.\n",
      "WARNING:tensorflow:Using a while_loop for converting RngReadAndSkip cause there is no registered converter for this op.\n",
      "WARNING:tensorflow:Using a while_loop for converting Bitcast cause there is no registered converter for this op.\n",
      "WARNING:tensorflow:Using a while_loop for converting Bitcast cause there is no registered converter for this op.\n",
      "WARNING:tensorflow:Using a while_loop for converting StatelessRandomUniformV2 cause there is no registered converter for this op.\n",
      "WARNING:tensorflow:Using a while_loop for converting ImageProjectiveTransformV3 cause there is no registered converter for this op.\n",
      "WARNING:tensorflow:Using a while_loop for converting RngReadAndSkip cause there is no registered converter for this op.\n",
      "WARNING:tensorflow:Using a while_loop for converting Bitcast cause there is no registered converter for this op.\n",
      "WARNING:tensorflow:Using a while_loop for converting Bitcast cause there is no registered converter for this op.\n",
      "WARNING:tensorflow:Using a while_loop for converting StatelessRandomUniformV2 cause there is no registered converter for this op.\n",
      "WARNING:tensorflow:Using a while_loop for converting RngReadAndSkip cause there is no registered converter for this op.\n",
      "WARNING:tensorflow:Using a while_loop for converting Bitcast cause there is no registered converter for this op.\n",
      "WARNING:tensorflow:Using a while_loop for converting Bitcast cause there is no registered converter for this op.\n",
      "WARNING:tensorflow:Using a while_loop for converting StatelessRandomUniformV2 cause there is no registered converter for this op.\n",
      "WARNING:tensorflow:Using a while_loop for converting ImageProjectiveTransformV3 cause there is no registered converter for this op.\n",
      "WARNING:tensorflow:Using a while_loop for converting RngReadAndSkip cause there is no registered converter for this op.\n",
      "WARNING:tensorflow:Using a while_loop for converting Bitcast cause there is no registered converter for this op.\n",
      "WARNING:tensorflow:Using a while_loop for converting Bitcast cause there is no registered converter for this op.\n",
      "WARNING:tensorflow:Using a while_loop for converting StatelessRandomUniformFullIntV2 cause there is no registered converter for this op.\n",
      "WARNING:tensorflow:Using a while_loop for converting StatelessRandomGetKeyCounter cause there is no registered converter for this op.\n",
      "WARNING:tensorflow:Using a while_loop for converting StatelessRandomUniformV2 cause there is no registered converter for this op.\n",
      "WARNING:tensorflow:Using a while_loop for converting AdjustContrastv2 cause Input \"contrast_factor\" of op 'AdjustContrastv2' expected to be loop invariant.\n"
     ]
    }
   ],
   "source": [
    "# Use Keras layers as augmentations\n",
    "# This is a simple augmentation pipeline that includes random flipping, rotation, zooming, and contrast adjustment.\n",
    "data_augmentation = tf.keras.Sequential([\n",
    "    tf.keras.layers.RandomFlip('horizontal'),\n",
    "    tf.keras.layers.RandomRotation(0.05),\n",
    "    tf.keras.layers.RandomBrightness(0.1),\n",
    "    tf.keras.layers.RandomZoom(0.1),\n",
    "    tf.keras.layers.RandomContrast(0.1),\n",
    "])  \n",
    "\n",
    "def augment(image, label):\n",
    "    image = tf.cast(image, tf.float32) / 255.0  # Normalize the image to [0, 1]\n",
    "    image = data_augmentation(image)\n",
    "    return image, label\n",
    "\n",
    "def normalize(image, label):\n",
    "    image = tf.cast(image, tf.float32) / 255.0  # Normalize the image to [0, 1]\n",
    "    return image, label\n",
    "\n",
    "# Apply the augmentation to the training dataset\n",
    "train_ds = train_ds.map(augment, num_parallel_calls=AUTOTUNE)\n",
    "\n",
    "# Normalize the validation and test datasets\n",
    "val_ds = val_ds.map(normalize, num_parallel_calls=AUTOTUNE)\n",
    "test_ds = test_ds.map(normalize, num_parallel_calls=AUTOTUNE)\n"
   ]
  },
  {
   "cell_type": "markdown",
   "metadata": {},
   "source": [
    "#### Prefetch data for performance"
   ]
  },
  {
   "cell_type": "markdown",
   "metadata": {},
   "source": [
    "`prefetch()` allows the data loading and model training to run in parallel.\n",
    "\n",
    "Without prefetching, the workflow looks like this — sequential and slower:\n",
    "\n",
    "- Load a batch of data\n",
    "- Train on that batch\n",
    "- Load the next batch\n",
    "- Train again\n",
    "(Repeat...)\n",
    "\n",
    "This means the GPU waits while the CPU loads data — wasted time!\n",
    "\n",
    "With `prefetch(buffer_size=N)`, TensorFlow starts loading the next N batches in the background while the model is training on the current batch.\n",
    "So the steps overlap like this:\n",
    "\n",
    "- While training on batch A, the pipeline is loading batch B\n",
    "- When batch A is done, batch B is ready instantly  \n",
    "\n",
    "`tf.data.AUTOTUNE` lets TensorFlow decide the optimal buffer size dynamically.\n",
    "\n",
    "\n",
    "\n",
    "\n"
   ]
  },
  {
   "cell_type": "code",
   "execution_count": 7,
   "metadata": {},
   "outputs": [],
   "source": [
    "# Prefetch for performance\n",
    "# This allows later batches to be prepared while the current one is being processed\n",
    "# This will speed up training\n",
    "train_ds = train_ds.prefetch(buffer_size=AUTOTUNE)\n",
    "val_ds = val_ds.prefetch(buffer_size=AUTOTUNE)\n",
    "test_ds = test_ds.prefetch(buffer_size=AUTOTUNE)"
   ]
  },
  {
   "cell_type": "markdown",
   "metadata": {},
   "source": [
    "#### Compute Class Weights"
   ]
  },
  {
   "cell_type": "markdown",
   "metadata": {},
   "source": [
    "**Why Use Class Weights?**  \n",
    "When the dataset is imbalanced (e.g., many more \"Normal\" than \"Pneumonia\" X-rays), the model can get high accuracy by just predicting the majority class all the time.\n",
    "\n",
    "Imagine this:\n",
    "- 90% Normal\n",
    "- 10% Pneumonia\n",
    "\n",
    "A model that always predicts \"Normal\" would have 90% accuracy, but 0% recall for Pneumonia — which is unacceptable in medical diagnostics.\n",
    "\n",
    "So, to combat this imbalance, class weights adjust the importance of each class when calculating the loss.\n",
    "\n",
    "**What Do Class Weights Do, Mathematically?**  \n",
    "In a standard loss like binary cross-entropy, each example contributes equally. But with class weights, the contribution to the loss is scaled:\n",
    "\n",
    "Binary Cross-Entropy (with weights):  \n",
    "Loss = −𝑤1 ⋅ 𝑦 ⋅ log(𝑦^) − 𝑤0 ⋅ (1 − 𝑦) ⋅ log(1 − 𝑦^)\n",
    "\n",
    "Where:\n",
    "- 𝑦 is the true label\n",
    "- 𝑦^ is the predicted probability\n",
    "- 𝑤1, 𝑤0 are weights for class 1 and 0, respectively\n",
    "\n",
    "This makes mistakes on minority class samples \"hurt more\" in training, nudging the model to learn their features better."
   ]
  },
  {
   "cell_type": "code",
   "execution_count": 8,
   "metadata": {},
   "outputs": [
    {
     "name": "stdout",
     "output_type": "stream",
     "text": [
      "Class weights: {0: 1.9448173005219984, 1: 0.6730322580645162}\n"
     ]
    }
   ],
   "source": [
    "# Get all training labels\n",
    "y_train = np.concatenate([y for x, y in train_ds], axis=0)\n",
    "\n",
    "class_weights = compute_class_weight(class_weight='balanced',\n",
    "                                     classes=np.unique(y_train),\n",
    "                                     y=y_train)\n",
    "\n",
    "class_weight_dict = dict(enumerate(class_weights))\n",
    "print(\"Class weights:\", class_weight_dict)\n"
   ]
  },
  {
   "cell_type": "code",
   "execution_count": null,
   "metadata": {},
   "outputs": [
    {
     "name": "stdout",
     "output_type": "stream",
     "text": [
      "Model: \"sequential_1\"\n",
      "_________________________________________________________________\n",
      " Layer (type)                Output Shape              Param #   \n",
      "=================================================================\n",
      " vgg16 (Functional)          (None, 4, 4, 512)         14714688  \n",
      "                                                                 \n",
      " flatten (Flatten)           (None, 8192)              0         \n",
      "                                                                 \n",
      " dense (Dense)               (None, 1024)              8389632   \n",
      "                                                                 \n",
      " dense_1 (Dense)             (None, 256)               262400    \n",
      "                                                                 \n",
      " dense_2 (Dense)             (None, 256)               65792     \n",
      "                                                                 \n",
      " dense_3 (Dense)             (None, 128)               32896     \n",
      "                                                                 \n",
      " dense_4 (Dense)             (None, 1)                 129       \n",
      "                                                                 \n",
      "=================================================================\n",
      "Total params: 23,465,537\n",
      "Trainable params: 11,110,657\n",
      "Non-trainable params: 12,354,880\n",
      "_________________________________________________________________\n"
     ]
    }
   ],
   "source": [
    "basemodel = tf.keras.applications.VGG16(include_top=False,\n",
    "                        weights='imagenet',\n",
    "                        input_shape=(IMG_WIDTH, IMG_HEIGHT, 3))\n",
    "\n",
    "# basemodel.trainable = False\n",
    "# for layer in basemodel.layers: layer.trainable = False \n",
    "\n",
    "basemodel.trainable = True\n",
    "for layer in basemodel.layers[:-2]:  # Let trainable only last n layers\n",
    "    layer.trainable = False\n",
    "\n",
    "input_shape = basemodel.output_shape[1]\n",
    "model = Sequential([\n",
    "    basemodel,\n",
    "\n",
    "    # tf.keras.layers.GlobalAveragePooling2D(),  # Global average pooling layer to reduce the spatial dimensions\n",
    "    # tf.keras.layers.BatchNormalization(),  # Normalize the output\n",
    "    # tf.keras.layers.Dropout(0.2),  # Add dropout for regularization\n",
    "\n",
    "    tf.keras.layers.Flatten(),   # Flatten the output of the base model\n",
    "    # tf.keras.layers.BatchNormalization(),  # Normalize the output\n",
    "    # tf.keras.layers.Dropout(0.2),  # Add dropout for regularization\n",
    "\n",
    "    tf.keras.layers.Dense(1024, activation='relu'),  # Add a fully connected layer\n",
    "\n",
    "    # tf.keras.layers.Dense(256, activation='relu'),  # Add a fully connected layer\n",
    "    # tf.keras.layers.BatchNormalization(),  # Normalize the output\n",
    "    # tf.keras.layers.Dropout(0.2),  # Add dropout for regularization\n",
    "\n",
    "    # tf.keras.layers.Dense(256, activation='relu'),  # Add a fully connected layer\n",
    "    # tf.keras.layers.BatchNormalization(),  # Normalize the output\n",
    "    # tf.keras.layers.Dropout(0.2),  # Add dropout for regularization\n",
    "\n",
    "    tf.keras.layers.Dense(128, activation='relu'),  # Add a fully connected layer\n",
    "    # tf.keras.layers.BatchNormalization(),  # Normalize the output\n",
    "    # tf.keras.layers.Dropout(0.2),  # Add dropout for regularization\n",
    "    \n",
    "    tf.keras.layers.Dense(1, activation='sigmoid')  # Output layer for binary classification\n",
    "])\n",
    "\n",
    "model.summary()"
   ]
  },
  {
   "cell_type": "code",
   "execution_count": 10,
   "metadata": {},
   "outputs": [],
   "source": [
    "model.compile(loss='binary_crossentropy',\n",
    "              optimizer=tf.keras.optimizers.Adam(learning_rate=0.0001),\n",
    "              metrics=['accuracy', \n",
    "                    #    tf.keras.metrics.Precision(name='precision'), \n",
    "                    #    tf.keras.metrics.Recall(name='recall')\n",
    "                       ])"
   ]
  },
  {
   "cell_type": "code",
   "execution_count": 11,
   "metadata": {},
   "outputs": [],
   "source": [
    "early_stopping = EarlyStopping(monitor='val_accuracy', # You can also use 'val_recall' or 'val_precision'\n",
    "                               patience=5, # Wait n epochs before stopping if no improvement\n",
    "                               verbose=1,\n",
    "                               restore_best_weights=True)\n",
    "\n",
    "learning_rate_scheduler = tf.keras.callbacks.ReduceLROnPlateau(\n",
    "    monitor='val_accuracy',\n",
    "    factor=0.5,  # Reduce learning rate by factor\n",
    "    patience=2,  # Wait n epochs before reducing the learning rate if no improvement\n",
    "    verbose=1,\n",
    "    min_lr=1e-6  # Minimum learning rate\n",
    ")\n",
    "# Train the model"
   ]
  },
  {
   "cell_type": "code",
   "execution_count": 12,
   "metadata": {},
   "outputs": [
    {
     "name": "stdout",
     "output_type": "stream",
     "text": [
      "Epoch 1/20\n",
      "326/326 [==============================] - 31s 71ms/step - loss: 0.5047 - accuracy: 0.6840 - val_loss: 0.4297 - val_accuracy: 0.8000 - lr: 1.0000e-04\n",
      "Epoch 2/20\n",
      "326/326 [==============================] - 21s 64ms/step - loss: 0.4435 - accuracy: 0.7333 - val_loss: 0.8212 - val_accuracy: 0.6500 - lr: 1.0000e-04\n",
      "Epoch 3/20\n",
      "326/326 [==============================] - ETA: 0s - loss: 0.4448 - accuracy: 0.6687\n",
      "Epoch 3: ReduceLROnPlateau reducing learning rate to 4.999999873689376e-05.\n",
      "326/326 [==============================] - 21s 64ms/step - loss: 0.4448 - accuracy: 0.6687 - val_loss: 0.4718 - val_accuracy: 0.7833 - lr: 1.0000e-04\n",
      "Epoch 4/20\n",
      "326/326 [==============================] - 21s 64ms/step - loss: 0.4132 - accuracy: 0.7094 - val_loss: 0.4907 - val_accuracy: 0.7333 - lr: 5.0000e-05\n",
      "Epoch 5/20\n",
      "326/326 [==============================] - ETA: 0s - loss: 0.3986 - accuracy: 0.8267\n",
      "Epoch 5: ReduceLROnPlateau reducing learning rate to 2.499999936844688e-05.\n",
      "326/326 [==============================] - 22s 66ms/step - loss: 0.3986 - accuracy: 0.8267 - val_loss: 0.4859 - val_accuracy: 0.7667 - lr: 5.0000e-05\n",
      "Epoch 6/20\n",
      "326/326 [==============================] - ETA: 0s - loss: 0.3978 - accuracy: 0.7157Restoring model weights from the end of the best epoch: 1.\n",
      "326/326 [==============================] - 22s 67ms/step - loss: 0.3978 - accuracy: 0.7157 - val_loss: 0.9630 - val_accuracy: 0.7000 - lr: 2.5000e-05\n",
      "Epoch 6: early stopping\n"
     ]
    }
   ],
   "source": [
    "# Fit the model\n",
    "history = model.fit(train_ds, \n",
    "                    epochs=20,\n",
    "                    validation_data=val_ds,\n",
    "                    class_weight=class_weight_dict,\n",
    "                    callbacks=[early_stopping, learning_rate_scheduler],\n",
    "                    batch_size=BATCH_SIZE,)  "
   ]
  },
  {
   "cell_type": "code",
   "execution_count": 13,
   "metadata": {},
   "outputs": [
    {
     "data": {
      "image/png": "[encoded data removed]",
      "text/plain": [
       "<Figure size 1000x400 with 2 Axes>"
      ]
     },
     "metadata": {},
     "output_type": "display_data"
    }
   ],
   "source": [
    "fig, ax = plt.subplots(1, 2, figsize=(10, 4))\n",
    "ax[0].plot(history.history['accuracy'], label='Train Accuracy')\n",
    "ax[0].plot(history.history['val_accuracy'], label='Validation Accuracy')\n",
    "ax[0].set_title('Model Accuracy')\n",
    "ax[0].set_ylabel('Accuracy')\n",
    "ax[0].set_xlabel('Epoch')\n",
    "ax[0].legend(loc='lower right')\n",
    "\n",
    "ax[1].plot(history.history['loss'], label='Train Loss')\n",
    "ax[1].plot(history.history['val_loss'], label='Validation Loss')\n",
    "ax[1].set_title('Model Loss')\n",
    "ax[1].set_ylabel('Loss')\n",
    "ax[1].set_xlabel('Epoch')\n",
    "ax[1].legend(loc='upper right')\n",
    "plt.show()"
   ]
  },
  {
   "cell_type": "code",
   "execution_count": 14,
   "metadata": {},
   "outputs": [
    {
     "name": "stdout",
     "output_type": "stream",
     "text": [
      "37/37 [==============================] - 3s 77ms/step - loss: 0.3348 - accuracy: 0.8534\n"
     ]
    },
    {
     "data": {
      "text/plain": [
       "[0.3347809612751007, 0.8534482717514038]"
      ]
     },
     "execution_count": 14,
     "metadata": {},
     "output_type": "execute_result"
    }
   ],
   "source": [
    "model.evaluate(test_ds)"
   ]
  },
  {
   "cell_type": "code",
   "execution_count": 15,
   "metadata": {},
   "outputs": [],
   "source": [
    "# basemodel.trainable = True\n",
    "# for layer in basemodel.layers[:-5]:  # Fine-tune last n layers\n",
    "#     layer.trainable = False\n",
    "\n",
    "# model.summary()"
   ]
  },
  {
   "cell_type": "code",
   "execution_count": 16,
   "metadata": {},
   "outputs": [],
   "source": [
    "# model.compile(loss='binary_crossentropy',\n",
    "#               optimizer=tf.keras.optimizers.Adam(1e-5),\n",
    "#               metrics=['accuracy', \n",
    "#                     #    tf.keras.metrics.Precision(name='precision'), \n",
    "#                     #    tf.keras.metrics.Recall(name='recall')\n",
    "#                        ])\n",
    "\n",
    "# history_fine_tunned = model.fit(train_ds, \n",
    "#                     epochs=20,\n",
    "#                     validation_data=val_ds,\n",
    "#                     class_weight=class_weight_dict,\n",
    "#                     callbacks=[early_stopping, learning_rate_scheduler],\n",
    "#                     batch_size=BATCH_SIZE,)  "
   ]
  },
  {
   "cell_type": "code",
   "execution_count": 17,
   "metadata": {},
   "outputs": [],
   "source": [
    "# fig, ax = plt.subplots(1, 2, figsize=(10, 6))\n",
    "# ax[0].plot(history_fine_tunned.history['accuracy'], label='Train Accuracy')\n",
    "# ax[0].plot(history_fine_tunned.history['val_accuracy'], label='Validation Accuracy')\n",
    "# ax[0].set_title('Model Accuracy')\n",
    "# ax[0].set_ylabel('Accuracy')\n",
    "# ax[0].set_xlabel('Epoch')\n",
    "# ax[0].legend(loc='lower right')\n",
    "\n",
    "# ax[1].plot(history_fine_tunned.history['loss'], label='Train Loss')\n",
    "# ax[1].plot(history_fine_tunned.history['val_loss'], label='Validation Loss')\n",
    "# ax[1].set_title('Model Loss')\n",
    "# ax[1].set_ylabel('Loss')\n",
    "# ax[1].set_xlabel('Epoch')\n",
    "# ax[1].legend(loc='upper right')\n",
    "# plt.show()"
   ]
  },
  {
   "cell_type": "code",
   "execution_count": 18,
   "metadata": {},
   "outputs": [],
   "source": [
    "# model.evaluate(test_ds)"
   ]
  },
  {
   "cell_type": "markdown",
   "metadata": {},
   "source": [
    "#### Misclassifications"
   ]
  },
  {
   "cell_type": "code",
   "execution_count": 19,
   "metadata": {},
   "outputs": [
    {
     "name": "stdout",
     "output_type": "stream",
     "text": [
      "1/1 [==============================] - 0s 317ms/step\n",
      "1/1 [==============================] - 0s 21ms/step\n",
      "1/1 [==============================] - 0s 20ms/step\n",
      "1/1 [==============================] - 0s 22ms/step\n",
      "1/1 [==============================] - 0s 23ms/step\n",
      "1/1 [==============================] - 0s 22ms/step\n",
      "1/1 [==============================] - 0s 23ms/step\n",
      "1/1 [==============================] - 0s 22ms/step\n",
      "1/1 [==============================] - 0s 22ms/step\n",
      "1/1 [==============================] - 0s 21ms/step\n",
      "1/1 [==============================] - 0s 22ms/step\n",
      "1/1 [==============================] - 0s 21ms/step\n",
      "1/1 [==============================] - 0s 23ms/step\n",
      "1/1 [==============================] - 0s 24ms/step\n",
      "1/1 [==============================] - 0s 21ms/step\n",
      "1/1 [==============================] - 0s 23ms/step\n",
      "1/1 [==============================] - 0s 22ms/step\n",
      "1/1 [==============================] - 0s 21ms/step\n",
      "1/1 [==============================] - 0s 22ms/step\n",
      "1/1 [==============================] - 0s 23ms/step\n",
      "1/1 [==============================] - 0s 21ms/step\n",
      "1/1 [==============================] - 0s 22ms/step\n",
      "1/1 [==============================] - 0s 20ms/step\n",
      "1/1 [==============================] - 0s 22ms/step\n",
      "1/1 [==============================] - 0s 22ms/step\n",
      "1/1 [==============================] - 0s 22ms/step\n",
      "1/1 [==============================] - 0s 23ms/step\n",
      "1/1 [==============================] - 0s 23ms/step\n",
      "1/1 [==============================] - 0s 23ms/step\n",
      "1/1 [==============================] - 0s 22ms/step\n",
      "1/1 [==============================] - 0s 21ms/step\n",
      "1/1 [==============================] - 0s 20ms/step\n",
      "1/1 [==============================] - 0s 20ms/step\n",
      "1/1 [==============================] - 0s 20ms/step\n",
      "1/1 [==============================] - 0s 21ms/step\n",
      "1/1 [==============================] - 0s 25ms/step\n",
      "1/1 [==============================] - 0s 23ms/step\n"
     ]
    }
   ],
   "source": [
    "y_true = []\n",
    "y_pred = []\n",
    "images = []\n",
    "\n",
    "for batch_images, batch_labels in test_ds:\n",
    "    preds = model.predict(batch_images)\n",
    "    y_true.extend(batch_labels.numpy())\n",
    "    y_pred.extend((preds > 0.5).astype(int).flatten())\n",
    "    images.extend(batch_images.numpy())\n",
    "\n",
    "y_true = np.array(y_true)\n",
    "y_pred = np.array(y_pred)   \n",
    "images = np.array(images)\n"
   ]
  },
  {
   "cell_type": "code",
   "execution_count": 20,
   "metadata": {},
   "outputs": [
    {
     "name": "stdout",
     "output_type": "stream",
     "text": [
      "              precision    recall  f1-score   support\n",
      "\n",
      "      NORMAL       0.87      0.71      0.78       212\n",
      "   PNEUMONIA       0.85      0.94      0.89       368\n",
      "\n",
      "    accuracy                           0.85       580\n",
      "   macro avg       0.86      0.82      0.83       580\n",
      "weighted avg       0.85      0.85      0.85       580\n",
      "\n"
     ]
    }
   ],
   "source": [
    "print(metrics.classification_report(y_true, y_pred, target_names=classes))"
   ]
  },
  {
   "cell_type": "code",
   "execution_count": 21,
   "metadata": {},
   "outputs": [
    {
     "name": "stdout",
     "output_type": "stream",
     "text": [
      "Total misclassified images: 85\n"
     ]
    }
   ],
   "source": [
    "misclassified_idxs = np.where(y_true != y_pred)[0]  # Get the indices of misclassified images\n",
    "print(f\"Total misclassified images: {len(misclassified_idxs)}\")"
   ]
  },
  {
   "cell_type": "code",
   "execution_count": 22,
   "metadata": {},
   "outputs": [
    {
     "name": "stdout",
     "output_type": "stream",
     "text": [
      "Normal misclassified: 62\n",
      "Pneumonia misclassified: 23\n"
     ]
    }
   ],
   "source": [
    "normal_misclassified = np.sum(y_true[misclassified_idxs] == 0)\n",
    "pneumonia_misclassified = np.sum(y_true[misclassified_idxs] == 1)\n",
    "print(f\"Normal misclassified: {normal_misclassified}\")\n",
    "print(f\"Pneumonia misclassified: {pneumonia_misclassified}\")"
   ]
  },
  {
   "cell_type": "code",
   "execution_count": null,
   "metadata": {},
   "outputs": [],
   "source": []
  },
  {
   "cell_type": "code",
   "execution_count": null,
   "metadata": {},
   "outputs": [],
   "source": []
  }
 ],
 "metadata": {
  "kernelspec": {
   "display_name": "catboost",
   "language": "python",
   "name": "python3"
  },
  "language_info": {
   "codemirror_mode": {
    "name": "ipython",
    "version": 3
   },
   "file_extension": ".py",
   "mimetype": "text/x-python",
   "name": "python",
   "nbconvert_exporter": "python",
   "pygments_lexer": "ipython3",
   "version": "3.10.13"
  }
 },
 "nbformat": 4,
 "nbformat_minor": 2
}
