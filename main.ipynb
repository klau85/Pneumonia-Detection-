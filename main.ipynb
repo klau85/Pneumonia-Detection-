{
 "cells": [
  {
   "cell_type": "code",
   "execution_count": 1,
   "metadata": {},
   "outputs": [],
   "source": [
    "import numpy as np\n",
    "import pandas as pd\n",
    "import matplotlib.pyplot as plt\n",
    "import seaborn as sns\n",
    "\n",
    "from pathlib import Path\n",
    "\n",
    "import tensorflow as tf\n",
    "from tensorflow.keras.applications import vgg16\n",
    "from tensorflow.keras.models import Sequential, Model\n",
    "from tensorflow.keras.layers import Dense\n",
    "from tensorflow.keras.callbacks import EarlyStopping\n",
    "\n",
    "import os\n",
    "from sklearn.utils.class_weight import compute_class_weight\n",
    "\n",
    "sns.set_context('notebook')\n",
    "sns.set_style('white')"
   ]
  },
  {
   "cell_type": "code",
   "execution_count": 2,
   "metadata": {},
   "outputs": [],
   "source": [
    "classes = ['NORMAL', 'PNEUMONIA']\n",
    "\n",
    "IMG_HEIGHT, IMG_WIDTH = 150, 150\n",
    "BATCH_SIZE = 16\n",
    "AUTOTUNE = tf.data.AUTOTUNE\n",
    "SEED = 42\n",
    "\n",
    "train_dir = 'data/train'\n",
    "test_dir = 'data/test'\n",
    "val_dir = 'data/val'"
   ]
  },
  {
   "cell_type": "markdown",
   "metadata": {},
   "source": [
    "#### EDA"
   ]
  },
  {
   "cell_type": "markdown",
   "metadata": {},
   "source": [
    "Check for data imbalance"
   ]
  },
  {
   "cell_type": "code",
   "execution_count": 3,
   "metadata": {},
   "outputs": [],
   "source": [
    "train_normal_num_files = len(list(Path(train_dir + '/' + classes[0]).glob('*.jpeg')))\n",
    "train_pneumonia_num_files = len(list(Path(train_dir + '/' + classes[1]).glob('*.jpeg')))"
   ]
  },
  {
   "cell_type": "code",
   "execution_count": 4,
   "metadata": {},
   "outputs": [
    {
     "data": {
      "text/plain": [
       "<Axes: >"
      ]
     },
     "execution_count": 4,
     "metadata": {},
     "output_type": "execute_result"
    },
    {
     "data": {
      "image/png": "[encoded data removed]",
      "text/plain": [
       "<Figure size 640x480 with 1 Axes>"
      ]
     },
     "metadata": {},
     "output_type": "display_data"
    }
   ],
   "source": [
    "sns.barplot(\n",
    "    x=classes,\n",
    "    y=[train_normal_num_files, train_pneumonia_num_files],\n",
    "    hue=classes\n",
    ")"
   ]
  },
  {
   "cell_type": "markdown",
   "metadata": {},
   "source": [
    "As we can see, there are almost 3 times more Pneumonia images than normal ones."
   ]
  },
  {
   "cell_type": "markdown",
   "metadata": {},
   "source": [
    "#### Load dataset"
   ]
  },
  {
   "cell_type": "markdown",
   "metadata": {},
   "source": [
    "`image_dataset_from_directory` generates a tf.data.Dataset from image files in a directory.\n",
    "\n",
    "If your directory structure is:\n",
    "\n",
    "    main_directory/\n",
    "    ...class_a/\n",
    "    ......a_image_1.jpg\n",
    "    ......a_image_2.jpg\n",
    "    ...class_b/\n",
    "    ......b_image_1.jpg\n",
    "    ......b_image_2.jpg\n",
    "Then calling image_dataset_from_directory(main_directory, labels='inferred') will return a tf.data.Dataset that yields batches of images from the subdirectories class_a and class_b, together with labels 0 and 1 (0 corresponding to class_a and 1 corresponding to class_b)."
   ]
  },
  {
   "cell_type": "code",
   "execution_count": 5,
   "metadata": {},
   "outputs": [
    {
     "name": "stdout",
     "output_type": "stream",
     "text": [
      "Found 5216 files belonging to 2 classes.\n",
      "Found 16 files belonging to 2 classes.\n",
      "Found 624 files belonging to 2 classes.\n"
     ]
    }
   ],
   "source": [
    "train_ds = tf.keras.preprocessing.image_dataset_from_directory(\n",
    "    train_dir,\n",
    "    labels='inferred',\n",
    "    label_mode='int',\n",
    "    image_size=(IMG_HEIGHT, IMG_WIDTH),\n",
    "    batch_size=BATCH_SIZE,\n",
    "    seed=SEED,\n",
    "    shuffle=True,\n",
    "    color_mode='rgb',\n",
    ")\n",
    "\n",
    "val_ds = tf.keras.preprocessing.image_dataset_from_directory(\n",
    "    val_dir,\n",
    "    labels='inferred',\n",
    "    label_mode='int',\n",
    "    image_size=(IMG_HEIGHT, IMG_WIDTH),\n",
    "    batch_size=BATCH_SIZE,\n",
    "    shuffle=False,\n",
    "    color_mode='rgb',\n",
    ")\n",
    "\n",
    "test_ds = tf.keras.preprocessing.image_dataset_from_directory(\n",
    "    test_dir,\n",
    "    labels='inferred',\n",
    "    label_mode='int',\n",
    "    image_size=(IMG_HEIGHT, IMG_WIDTH),\n",
    "    batch_size=BATCH_SIZE,\n",
    "    shuffle=False,\n",
    "    color_mode='rgb',\n",
    ")\n"
   ]
  },
  {
   "cell_type": "markdown",
   "metadata": {},
   "source": [
    "#### Augment data"
   ]
  },
  {
   "cell_type": "markdown",
   "metadata": {},
   "source": [
    "##### Benefits of Using the tf.keras.layers Augmentation Layer\n",
    "\n",
    "**1. On-the-fly augmentation during training**  \n",
    "- Augmentations are applied dynamically during training, which means:\n",
    "    - No extra disk space is needed for augmented images.\n",
    "    - The model sees new variations every epoch, improving generalization.\n",
    "- It helps simulate a larger, more diverse dataset without manual duplication.\n",
    "\n",
    "**2. GPU-accelerated and built into the TensorFlow graph**\n",
    "- These layers run as part of the TensorFlow computational graph, meaning:\n",
    "    - They’re fast and optimized for GPUs/TPUs.\n",
    "    - No slow, CPU-bound Python loops or I/O bottlenecks.\n",
    "- Ideal for large-scale training pipelines."
   ]
  },
  {
   "cell_type": "code",
   "execution_count": 6,
   "metadata": {},
   "outputs": [
    {
     "name": "stdout",
     "output_type": "stream",
     "text": [
      "WARNING:tensorflow:Using a while_loop for converting RngReadAndSkip cause there is no registered converter for this op.\n",
      "WARNING:tensorflow:Using a while_loop for converting Bitcast cause there is no registered converter for this op.\n",
      "WARNING:tensorflow:Using a while_loop for converting Bitcast cause there is no registered converter for this op.\n",
      "WARNING:tensorflow:Using a while_loop for converting StatelessRandomUniformV2 cause there is no registered converter for this op.\n",
      "WARNING:tensorflow:Using a while_loop for converting ImageProjectiveTransformV3 cause there is no registered converter for this op.\n",
      "WARNING:tensorflow:Using a while_loop for converting RngReadAndSkip cause there is no registered converter for this op.\n",
      "WARNING:tensorflow:Using a while_loop for converting Bitcast cause there is no registered converter for this op.\n",
      "WARNING:tensorflow:Using a while_loop for converting Bitcast cause there is no registered converter for this op.\n",
      "WARNING:tensorflow:Using a while_loop for converting StatelessRandomUniformV2 cause there is no registered converter for this op.\n",
      "WARNING:tensorflow:Using a while_loop for converting ImageProjectiveTransformV3 cause there is no registered converter for this op.\n",
      "WARNING:tensorflow:Using a while_loop for converting RngReadAndSkip cause there is no registered converter for this op.\n",
      "WARNING:tensorflow:Using a while_loop for converting Bitcast cause there is no registered converter for this op.\n",
      "WARNING:tensorflow:Using a while_loop for converting Bitcast cause there is no registered converter for this op.\n",
      "WARNING:tensorflow:Using a while_loop for converting StatelessRandomUniformFullIntV2 cause there is no registered converter for this op.\n",
      "WARNING:tensorflow:Using a while_loop for converting StatelessRandomGetKeyCounter cause there is no registered converter for this op.\n",
      "WARNING:tensorflow:Using a while_loop for converting StatelessRandomUniformV2 cause there is no registered converter for this op.\n",
      "WARNING:tensorflow:Using a while_loop for converting AdjustContrastv2 cause Input \"contrast_factor\" of op 'AdjustContrastv2' expected to be loop invariant.\n",
      "WARNING:tensorflow:Using a while_loop for converting RngReadAndSkip cause there is no registered converter for this op.\n",
      "WARNING:tensorflow:Using a while_loop for converting Bitcast cause there is no registered converter for this op.\n",
      "WARNING:tensorflow:Using a while_loop for converting Bitcast cause there is no registered converter for this op.\n",
      "WARNING:tensorflow:Using a while_loop for converting StatelessRandomUniformV2 cause there is no registered converter for this op.\n",
      "WARNING:tensorflow:Using a while_loop for converting ImageProjectiveTransformV3 cause there is no registered converter for this op.\n",
      "WARNING:tensorflow:Using a while_loop for converting RngReadAndSkip cause there is no registered converter for this op.\n",
      "WARNING:tensorflow:Using a while_loop for converting Bitcast cause there is no registered converter for this op.\n",
      "WARNING:tensorflow:Using a while_loop for converting Bitcast cause there is no registered converter for this op.\n",
      "WARNING:tensorflow:Using a while_loop for converting StatelessRandomUniformV2 cause there is no registered converter for this op.\n",
      "WARNING:tensorflow:Using a while_loop for converting ImageProjectiveTransformV3 cause there is no registered converter for this op.\n",
      "WARNING:tensorflow:Using a while_loop for converting RngReadAndSkip cause there is no registered converter for this op.\n",
      "WARNING:tensorflow:Using a while_loop for converting Bitcast cause there is no registered converter for this op.\n",
      "WARNING:tensorflow:Using a while_loop for converting Bitcast cause there is no registered converter for this op.\n",
      "WARNING:tensorflow:Using a while_loop for converting StatelessRandomUniformFullIntV2 cause there is no registered converter for this op.\n",
      "WARNING:tensorflow:Using a while_loop for converting StatelessRandomGetKeyCounter cause there is no registered converter for this op.\n",
      "WARNING:tensorflow:Using a while_loop for converting StatelessRandomUniformV2 cause there is no registered converter for this op.\n",
      "WARNING:tensorflow:Using a while_loop for converting AdjustContrastv2 cause Input \"contrast_factor\" of op 'AdjustContrastv2' expected to be loop invariant.\n"
     ]
    }
   ],
   "source": [
    "# Use Keras layers as augmentations\n",
    "# This is a simple augmentation pipeline that includes random flipping, rotation, zooming, and contrast adjustment.\n",
    "data_augmentation = tf.keras.Sequential([\n",
    "    tf.keras.layers.RandomFlip('horizontal'),\n",
    "    tf.keras.layers.RandomRotation(0.05),\n",
    "    tf.keras.layers.RandomZoom(0.1),\n",
    "    tf.keras.layers.RandomContrast(0.1),\n",
    "])  \n",
    "\n",
    "def augment(image, label):\n",
    "    image = tf.cast(image, tf.float32) / 255.0  # Normalize the image to [0, 1]\n",
    "    image = data_augmentation(image)\n",
    "    return image, label\n",
    "\n",
    "def normalize(image, label):\n",
    "    image = tf.cast(image, tf.float32) / 255.0  # Normalize the image to [0, 1]\n",
    "    return image, label\n",
    "\n",
    "# Apply the augmentation to the training dataset\n",
    "train_ds = train_ds.map(augment, num_parallel_calls=AUTOTUNE)\n",
    "\n",
    "# Normalize the validation and test datasets\n",
    "val_ds = val_ds.map(normalize, num_parallel_calls=AUTOTUNE)\n",
    "test_ds = test_ds.map(normalize, num_parallel_calls=AUTOTUNE)\n"
   ]
  },
  {
   "cell_type": "markdown",
   "metadata": {},
   "source": [
    "#### Prefetch data for performance"
   ]
  },
  {
   "cell_type": "markdown",
   "metadata": {},
   "source": [
    "`prefetch()` allows the data loading and model training to run in parallel.\n",
    "\n",
    "Without prefetching, the workflow looks like this — sequential and slower:\n",
    "\n",
    "- Load a batch of data\n",
    "- Train on that batch\n",
    "- Load the next batch\n",
    "- Train again\n",
    "(Repeat...)\n",
    "\n",
    "This means the GPU waits while the CPU loads data — wasted time!\n",
    "\n",
    "With `prefetch(buffer_size=N)`, TensorFlow starts loading the next N batches in the background while the model is training on the current batch.\n",
    "So the steps overlap like this:\n",
    "\n",
    "- While training on batch A, the pipeline is loading batch B\n",
    "- When batch A is done, batch B is ready instantly  \n",
    "\n",
    "`tf.data.AUTOTUNE` lets TensorFlow decide the optimal buffer size dynamically.\n",
    "\n",
    "\n",
    "\n",
    "\n"
   ]
  },
  {
   "cell_type": "code",
   "execution_count": 7,
   "metadata": {},
   "outputs": [],
   "source": [
    "# Prefetch for performance\n",
    "# This allows later batches to be prepared while the current one is being processed\n",
    "# This will speed up training\n",
    "train_ds = train_ds.prefetch(buffer_size=AUTOTUNE)\n",
    "val_ds = val_ds.prefetch(buffer_size=AUTOTUNE)\n",
    "test_ds = test_ds.prefetch(buffer_size=AUTOTUNE)"
   ]
  },
  {
   "cell_type": "markdown",
   "metadata": {},
   "source": [
    "#### Compute Class Weights"
   ]
  },
  {
   "cell_type": "markdown",
   "metadata": {},
   "source": [
    "**Why Use Class Weights?**  \n",
    "When the dataset is imbalanced (e.g., many more \"Normal\" than \"Pneumonia\" X-rays), the model can get high accuracy by just predicting the majority class all the time.\n",
    "\n",
    "Imagine this:\n",
    "- 90% Normal\n",
    "- 10% Pneumonia\n",
    "\n",
    "A model that always predicts \"Normal\" would have 90% accuracy, but 0% recall for Pneumonia — which is unacceptable in medical diagnostics.\n",
    "\n",
    "So, to combat this imbalance, class weights adjust the importance of each class when calculating the loss.\n",
    "\n",
    "**What Do Class Weights Do, Mathematically?**  \n",
    "In a standard loss like binary cross-entropy, each example contributes equally. But with class weights, the contribution to the loss is scaled:\n",
    "\n",
    "Binary Cross-Entropy (with weights):  \n",
    "Loss = −𝑤1 ⋅ 𝑦 ⋅ log(𝑦^) − 𝑤0 ⋅ (1 − 𝑦) ⋅ log(1 − 𝑦^)\n",
    "\n",
    "Where:\n",
    "- 𝑦 is the true label\n",
    "- 𝑦^ is the predicted probability\n",
    "- 𝑤1, 𝑤0 are weights for class 1 and 0, respectively\n",
    "\n",
    "This makes mistakes on minority class samples \"hurt more\" in training, nudging the model to learn their features better."
   ]
  },
  {
   "cell_type": "code",
   "execution_count": 8,
   "metadata": {},
   "outputs": [
    {
     "name": "stdout",
     "output_type": "stream",
     "text": [
      "Class weights: {0: 1.9448173005219984, 1: 0.6730322580645162}\n"
     ]
    }
   ],
   "source": [
    "# Get all training labels\n",
    "y_train = np.concatenate([y for x, y in train_ds], axis=0)\n",
    "\n",
    "class_weights = compute_class_weight(class_weight='balanced',\n",
    "                                     classes=np.unique(y_train),\n",
    "                                     y=y_train)\n",
    "\n",
    "class_weight_dict = dict(enumerate(class_weights))\n",
    "print(\"Class weights:\", class_weight_dict)\n"
   ]
  },
  {
   "cell_type": "code",
   "execution_count": 9,
   "metadata": {},
   "outputs": [
    {
     "name": "stdout",
     "output_type": "stream",
     "text": [
      "Model: \"sequential_1\"\n",
      "_________________________________________________________________\n",
      " Layer (type)                Output Shape              Param #   \n",
      "=================================================================\n",
      " model (Functional)          (None, 8192)              14714688  \n",
      "                                                                 \n",
      " dense (Dense)               (None, 128)               1048704   \n",
      "                                                                 \n",
      " dense_1 (Dense)             (None, 1)                 129       \n",
      "                                                                 \n",
      "=================================================================\n",
      "Total params: 15,763,521\n",
      "Trainable params: 5,768,449\n",
      "Non-trainable params: 9,995,072\n",
      "_________________________________________________________________\n"
     ]
    }
   ],
   "source": [
    "vgg = vgg16.VGG16(include_top=False,\n",
    "                        weights='imagenet',\n",
    "                        input_shape=(IMG_WIDTH, IMG_HEIGHT, 3))\n",
    "\n",
    "output = vgg.output\n",
    "output = tf.keras.layers.Flatten()(output)\n",
    "\n",
    "basemodel = Model(vgg.input, output)\n",
    "# basemodel.trainable = False\n",
    "# for layer in basemodel.layers: layer.trainable = False \n",
    "basemodel.trainable = True\n",
    "for layer in basemodel.layers[:-4]:  # Fine-tune last few layers\n",
    "    layer.trainable = False\n",
    "\n",
    "input_shape = basemodel.output_shape[1]\n",
    "model = Sequential()\n",
    "model.add(basemodel)\n",
    "model.add(Dense(128, activation='relu', input_dim=input_shape))\n",
    "model.add(Dense(1, activation='sigmoid'))\n",
    "\n",
    "model.summary()"
   ]
  },
  {
   "cell_type": "code",
   "execution_count": 10,
   "metadata": {},
   "outputs": [],
   "source": [
    "model.compile(loss='binary_crossentropy',\n",
    "              optimizer=tf.keras.optimizers.Adam(1e-5),\n",
    "              metrics=['accuracy', \n",
    "                       tf.keras.metrics.AUC(name='auc'), \n",
    "                    #    tf.keras.metrics.Precision(name='precision'), \n",
    "                    #    tf.keras.metrics.Recall(name='recall')\n",
    "                       ])"
   ]
  },
  {
   "cell_type": "code",
   "execution_count": 11,
   "metadata": {},
   "outputs": [],
   "source": [
    "early_stopping = EarlyStopping(monitor='val_loss', # You can also use 'val_auc' or 'val_accuracy'\n",
    "                               patience=4, # Wait n epochs before stopping if no improvement\n",
    "                               verbose=1,\n",
    "                               restore_best_weights=True)"
   ]
  },
  {
   "cell_type": "code",
   "execution_count": 12,
   "metadata": {},
   "outputs": [
    {
     "name": "stdout",
     "output_type": "stream",
     "text": [
      "Epoch 1/10\n",
      "326/326 [==============================] - 29s 65ms/step - loss: 0.2163 - accuracy: 0.9087 - auc: 0.9769 - val_loss: 0.1459 - val_accuracy: 0.9375 - val_auc: 1.0000\n",
      "Epoch 2/10\n",
      "326/326 [==============================] - 21s 64ms/step - loss: 0.0997 - accuracy: 0.9613 - auc: 0.9938 - val_loss: 0.1187 - val_accuracy: 1.0000 - val_auc: 1.0000\n",
      "Epoch 3/10\n",
      "326/326 [==============================] - 21s 64ms/step - loss: 0.0885 - accuracy: 0.9641 - auc: 0.9951 - val_loss: 0.1148 - val_accuracy: 1.0000 - val_auc: 1.0000\n",
      "Epoch 4/10\n",
      "326/326 [==============================] - 21s 64ms/step - loss: 0.0736 - accuracy: 0.9724 - auc: 0.9965 - val_loss: 0.1548 - val_accuracy: 0.9375 - val_auc: 1.0000\n",
      "Epoch 5/10\n",
      "326/326 [==============================] - 21s 64ms/step - loss: 0.0682 - accuracy: 0.9745 - auc: 0.9969 - val_loss: 0.1105 - val_accuracy: 1.0000 - val_auc: 1.0000\n",
      "Epoch 6/10\n",
      "326/326 [==============================] - 21s 65ms/step - loss: 0.0613 - accuracy: 0.9772 - auc: 0.9974 - val_loss: 0.1238 - val_accuracy: 0.9375 - val_auc: 1.0000\n",
      "Epoch 7/10\n",
      "326/326 [==============================] - 21s 62ms/step - loss: 0.0504 - accuracy: 0.9806 - auc: 0.9982 - val_loss: 0.1145 - val_accuracy: 0.9375 - val_auc: 1.0000\n",
      "Epoch 8/10\n",
      "326/326 [==============================] - 21s 64ms/step - loss: 0.0481 - accuracy: 0.9799 - auc: 0.9986 - val_loss: 0.0831 - val_accuracy: 0.9375 - val_auc: 1.0000\n",
      "Epoch 9/10\n",
      "326/326 [==============================] - 22s 65ms/step - loss: 0.0445 - accuracy: 0.9812 - auc: 0.9988 - val_loss: 0.1061 - val_accuracy: 0.9375 - val_auc: 1.0000\n",
      "Epoch 10/10\n",
      "326/326 [==============================] - 22s 66ms/step - loss: 0.0392 - accuracy: 0.9850 - auc: 0.9988 - val_loss: 0.0828 - val_accuracy: 1.0000 - val_auc: 1.0000\n"
     ]
    }
   ],
   "source": [
    "# Fit the model\n",
    "history = model.fit(train_ds, \n",
    "                    epochs=10,\n",
    "                    validation_data=val_ds,\n",
    "                    class_weight=class_weight_dict,\n",
    "                    callbacks=[early_stopping],\n",
    "                    batch_size=BATCH_SIZE,)  "
   ]
  },
  {
   "cell_type": "code",
   "execution_count": 13,
   "metadata": {},
   "outputs": [
    {
     "name": "stdout",
     "output_type": "stream",
     "text": [
      "39/39 [==============================] - 2s 51ms/step - loss: 0.3406 - accuracy: 0.9038 - auc: 0.9587\n"
     ]
    },
    {
     "data": {
      "text/plain": [
       "[0.3406071364879608, 0.9038461446762085, 0.9586948156356812]"
      ]
     },
     "execution_count": 13,
     "metadata": {},
     "output_type": "execute_result"
    }
   ],
   "source": [
    "model.evaluate(test_ds)"
   ]
  },
  {
   "cell_type": "markdown",
   "metadata": {},
   "source": [
    "#### Show Misclassifications"
   ]
  },
  {
   "cell_type": "code",
   "execution_count": 18,
   "metadata": {},
   "outputs": [
    {
     "name": "stdout",
     "output_type": "stream",
     "text": [
      "1/1 [==============================] - 0s 67ms/step\n",
      "1/1 [==============================] - 0s 27ms/step\n",
      "1/1 [==============================] - 0s 20ms/step\n",
      "1/1 [==============================] - 0s 23ms/step\n",
      "1/1 [==============================] - 0s 23ms/step\n",
      "1/1 [==============================] - 0s 25ms/step\n",
      "1/1 [==============================] - 0s 23ms/step\n",
      "1/1 [==============================] - 0s 19ms/step\n",
      "1/1 [==============================] - 0s 20ms/step\n",
      "1/1 [==============================] - 0s 21ms/step\n",
      "1/1 [==============================] - 0s 24ms/step\n",
      "1/1 [==============================] - 0s 20ms/step\n",
      "1/1 [==============================] - 0s 20ms/step\n",
      "1/1 [==============================] - 0s 21ms/step\n",
      "1/1 [==============================] - 0s 21ms/step\n",
      "1/1 [==============================] - 0s 21ms/step\n",
      "1/1 [==============================] - 0s 21ms/step\n",
      "1/1 [==============================] - 0s 21ms/step\n",
      "1/1 [==============================] - 0s 21ms/step\n",
      "1/1 [==============================] - 0s 21ms/step\n",
      "1/1 [==============================] - 0s 17ms/step\n",
      "1/1 [==============================] - 0s 21ms/step\n",
      "1/1 [==============================] - 0s 21ms/step\n",
      "1/1 [==============================] - 0s 27ms/step\n",
      "1/1 [==============================] - 0s 21ms/step\n",
      "1/1 [==============================] - 0s 16ms/step\n",
      "1/1 [==============================] - 0s 23ms/step\n",
      "1/1 [==============================] - 0s 21ms/step\n",
      "1/1 [==============================] - 0s 22ms/step\n",
      "1/1 [==============================] - 0s 18ms/step\n",
      "1/1 [==============================] - 0s 22ms/step\n",
      "1/1 [==============================] - 0s 23ms/step\n",
      "1/1 [==============================] - 0s 21ms/step\n",
      "1/1 [==============================] - 0s 23ms/step\n",
      "1/1 [==============================] - 0s 21ms/step\n",
      "1/1 [==============================] - 0s 21ms/step\n",
      "1/1 [==============================] - 0s 15ms/step\n",
      "1/1 [==============================] - 0s 21ms/step\n",
      "1/1 [==============================] - 0s 23ms/step\n"
     ]
    }
   ],
   "source": [
    "y_true = []\n",
    "y_pred = []\n",
    "images = []\n",
    "\n",
    "for batch_images, batch_labels in test_ds:\n",
    "    preds = model.predict(batch_images)\n",
    "    y_true.extend(batch_labels.numpy())\n",
    "    y_pred.extend((preds > 0.5).astype(int).flatten())\n",
    "    images.extend(batch_images.numpy())\n",
    "\n",
    "y_true = np.array(y_true)\n",
    "y_pred = np.array(y_pred)   \n",
    "images = np.array(images)\n"
   ]
  },
  {
   "cell_type": "code",
   "execution_count": 23,
   "metadata": {},
   "outputs": [
    {
     "name": "stdout",
     "output_type": "stream",
     "text": [
      "Total misclassified images: 60\n"
     ]
    }
   ],
   "source": [
    "misclassified_idxs = np.where(y_true != y_pred)[0]  # Get the indices of misclassified images\n",
    "print(f\"Total misclassified images: {len(misclassified_idxs)}\")"
   ]
  },
  {
   "cell_type": "code",
   "execution_count": 39,
   "metadata": {},
   "outputs": [
    {
     "name": "stdout",
     "output_type": "stream",
     "text": [
      "Normal misclassified: 55\n",
      "Pneumonia misclassified: 5\n"
     ]
    }
   ],
   "source": [
    "normal_misclassified = np.sum(y_true[misclassified_idxs] == 0)\n",
    "pneumonia_misclassified = np.sum(y_true[misclassified_idxs] == 1)\n",
    "print(f\"Normal misclassified: {normal_misclassified}\")\n",
    "print(f\"Pneumonia misclassified: {pneumonia_misclassified}\")"
   ]
  },
  {
   "cell_type": "code",
   "execution_count": null,
   "metadata": {},
   "outputs": [],
   "source": []
  }
 ],
 "metadata": {
  "kernelspec": {
   "display_name": "catboost",
   "language": "python",
   "name": "python3"
  },
  "language_info": {
   "codemirror_mode": {
    "name": "ipython",
    "version": 3
   },
   "file_extension": ".py",
   "mimetype": "text/x-python",
   "name": "python",
   "nbconvert_exporter": "python",
   "pygments_lexer": "ipython3",
   "version": "3.10.13"
  }
 },
 "nbformat": 4,
 "nbformat_minor": 2
}
